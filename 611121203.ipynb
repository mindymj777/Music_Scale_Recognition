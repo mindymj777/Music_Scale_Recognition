{
 "cells": [
  {
   "cell_type": "code",
   "execution_count": 11,
   "metadata": {},
   "outputs": [],
   "source": [
    "import numpy as np\n",
    "import pandas as pd\n",
    "import torch\n",
    "import os\n",
    "\n",
    "import matplotlib.pyplot as plt\n",
    "from PIL import Image\n",
    "\n",
    "import torchvision.transforms as transforms\n",
    "from torch.utils.data import DataLoader,random_split,Dataset\n",
    "import torch.nn as nn\n",
    "from torchsummary import summary"
   ]
  },
  {
   "attachments": {},
   "cell_type": "markdown",
   "metadata": {},
   "source": [
    "測試cuda是否可用"
   ]
  },
  {
   "cell_type": "code",
   "execution_count": 12,
   "metadata": {},
   "outputs": [
    {
     "data": {
      "text/plain": [
       "True"
      ]
     },
     "execution_count": 12,
     "metadata": {},
     "output_type": "execute_result"
    }
   ],
   "source": [
    "torch.cuda.is_available()"
   ]
  },
  {
   "attachments": {},
   "cell_type": "markdown",
   "metadata": {},
   "source": [
    "讀取training data 與 test data 、建立transform"
   ]
  },
  {
   "cell_type": "code",
   "execution_count": 13,
   "metadata": {},
   "outputs": [],
   "source": [
    "train_path=r\"C:/Users/MJ/Desktop/Music_Scale_Recognition/music_train\"\n",
    "test_path=r\"C:/Users/MJ/Desktop/Music_Scale_Recognition/music_test\"\n",
    "\n",
    "transform=transforms.Compose([\n",
    "    transforms.Resize((128,128)),     #將圖片大小縮放至(128*128)\n",
    "    transforms.ToTensor()\n",
    "])\n"
   ]
  },
  {
   "attachments": {},
   "cell_type": "markdown",
   "metadata": {},
   "source": [
    "建立Dataset class"
   ]
  },
  {
   "cell_type": "code",
   "execution_count": 14,
   "metadata": {},
   "outputs": [],
   "source": [
    "class MusicDataset(Dataset):\n",
    "    def __init__(self,root_dir,transform=None,is_train=True):\n",
    "\n",
    "        super().__init__()\n",
    "        self.train_truth=pd.read_csv(\"C:/Users/MJ/Desktop/Music_Scale_Recognition/train_truth.csv\")\n",
    "        self.root_dir=root_dir\n",
    "        self.transform=transform\n",
    "        self.is_train=is_train\n",
    "        \n",
    "        # 判斷是否為training data\n",
    "        if (is_train):\n",
    "            self.path=self.train_truth['filename']    #csv檔裡的圖片名稱\n",
    "            \n",
    "        else:\n",
    "            self.path=os.listdir(root_dir)          #test data file 裡每個圖片檔案的檔名\n",
    "\n",
    "\n",
    "    def __len__(self):\n",
    "        return len(self.path)\n",
    "    \n",
    "    \n",
    "    def __getitem__(self,idx):\n",
    "\n",
    "        img_path = os.path.join(self.root_dir, self.path[idx])\n",
    "        img = Image.open(img_path)\n",
    "        \n",
    "        img=self.transform(img)\n",
    "\n",
    "        # 判斷是否為training data\n",
    "        if (self.is_train):\n",
    "            label=torch.tensor(int(self.train_truth['category'][idx]))\n",
    "            return img,label\n",
    "        \n",
    "        else:\n",
    "            return img"
   ]
  },
  {
   "attachments": {},
   "cell_type": "markdown",
   "metadata": {},
   "source": [
    "將data切成training data 和validation data，再將兩者與test data 裝成dataset"
   ]
  },
  {
   "cell_type": "code",
   "execution_count": 15,
   "metadata": {},
   "outputs": [],
   "source": [
    "dataset=MusicDataset(train_path,transform,is_train=True)\n",
    "trainset, validset = random_split(dataset, [0.9, 0.1])\n",
    "train_size=len(trainset)\n",
    "valid_size=len(validset)\n",
    "testset=MusicDataset(test_path,transform,is_train=False)"
   ]
  },
  {
   "attachments": {},
   "cell_type": "markdown",
   "metadata": {},
   "source": [
    "將dataset裝進dataloader"
   ]
  },
  {
   "cell_type": "code",
   "execution_count": 16,
   "metadata": {},
   "outputs": [],
   "source": [
    "train_dl=DataLoader(trainset,shuffle=True, batch_size=20)\n",
    "valid_dl=DataLoader(validset,shuffle=True, batch_size=20)\n",
    "test_dl=DataLoader(testset,shuffle=False, batch_size=20)"
   ]
  },
  {
   "attachments": {},
   "cell_type": "markdown",
   "metadata": {},
   "source": [
    "建立model class"
   ]
  },
  {
   "cell_type": "code",
   "execution_count": 17,
   "metadata": {},
   "outputs": [],
   "source": [
    "class CNN(nn.Module):\n",
    "    def __init__(self,in_channels=4,num_classes=88):\n",
    "        super().__init__()\n",
    "\n",
    "        self.features = nn.Sequential(                                                          #input=128*128\n",
    "            nn.Conv2d(in_channels=in_channels,out_channels=8,kernel_size=3,stride=1,padding=1), #(128-3+2*1)/1 +1=128   \n",
    "            nn.MaxPool2d(kernel_size=2,stride=2),                                               #(128-2)/2 +1=64\n",
    "            nn.Conv2d(in_channels=8,out_channels=16,kernel_size=3,stride=1,padding=1),          #(64-3+2*1)/1 +1=64\n",
    "            nn.MaxPool2d(kernel_size=2,stride=2)                                                #(64-2)/2 +1=32\n",
    "        )\n",
    "                                                \n",
    "        self.classifier = nn.Sequential(       \n",
    "            nn.Linear(16*32*32, 128),                   \n",
    "            nn.ReLU(inplace=True),\n",
    "            nn.Linear(128, num_classes)\n",
    "        )\n",
    "        \n",
    "\n",
    "    def forward(self, x):\n",
    "        x = self.features(x)\n",
    "        x = torch.flatten(x, 1)\n",
    "        x = self.classifier(x)\n",
    "        return x"
   ]
  },
  {
   "attachments": {},
   "cell_type": "markdown",
   "metadata": {},
   "source": [
    "設定訓練的參數"
   ]
  },
  {
   "cell_type": "code",
   "execution_count": 18,
   "metadata": {},
   "outputs": [],
   "source": [
    "epochs=10\n",
    "model=CNN(4,88)\n",
    "model=model.cuda()  #將模型放到gpu上\n",
    "criterion = nn.CrossEntropyLoss()\n",
    "optim = torch.optim.Adam(model.parameters(), lr=1e-3)"
   ]
  },
  {
   "cell_type": "code",
   "execution_count": 19,
   "metadata": {},
   "outputs": [
    {
     "name": "stdout",
     "output_type": "stream",
     "text": [
      "----------------------------------------------------------------\n",
      "        Layer (type)               Output Shape         Param #\n",
      "================================================================\n",
      "            Conv2d-1          [-1, 8, 128, 128]             296\n",
      "         MaxPool2d-2            [-1, 8, 64, 64]               0\n",
      "            Conv2d-3           [-1, 16, 64, 64]           1,168\n",
      "         MaxPool2d-4           [-1, 16, 32, 32]               0\n",
      "            Linear-5                  [-1, 128]       2,097,280\n",
      "              ReLU-6                  [-1, 128]               0\n",
      "            Linear-7                   [-1, 88]          11,352\n",
      "================================================================\n",
      "Total params: 2,110,096\n",
      "Trainable params: 2,110,096\n",
      "Non-trainable params: 0\n",
      "----------------------------------------------------------------\n",
      "Input size (MB): 0.25\n",
      "Forward/backward pass size (MB): 1.88\n",
      "Params size (MB): 8.05\n",
      "Estimated Total Size (MB): 10.18\n",
      "----------------------------------------------------------------\n"
     ]
    }
   ],
   "source": [
    "summary(model,(4,128,128))"
   ]
  },
  {
   "attachments": {},
   "cell_type": "markdown",
   "metadata": {},
   "source": [
    "train model和使用validation data評估model"
   ]
  },
  {
   "cell_type": "code",
   "execution_count": 20,
   "metadata": {},
   "outputs": [],
   "source": [
    "train_losses = []\n",
    "train_accu = []\n",
    "val_losses=[]\n",
    "val_accu = []\n",
    "\n",
    "for epoch in range(epochs):\n",
    "        model.train()\n",
    "        train_loss=0\n",
    "        accu=0\n",
    "        ###################\n",
    "        # train the model #\n",
    "        ###################\n",
    "        for data, target in train_dl:\n",
    "                \n",
    "                optim.zero_grad()\n",
    "                data,target=data.cuda(),target.cuda()  #將data、target放到gpu上\n",
    "\n",
    "                out = model(data)\n",
    "                _, y_pred_tag = torch.max(out, dim = 1)  \n",
    "\n",
    "                loss = criterion(out, target)\n",
    "                loss.backward()\n",
    "                \n",
    "                optim.step()\n",
    "\n",
    "                train_loss += loss.item()*data.size(0)  #loss.item is batch loss mean\n",
    "                correct=torch.sum(y_pred_tag == target).item()  #sum 預測正確的次數\n",
    "                accu += correct \n",
    "                \n",
    "\n",
    "        train_loss=train_loss/train_size              # 1 epoch loss mean \n",
    "        accu=accu/train_size                          # 1 epoch accuracy mean\n",
    "        train_losses.append(train_loss)\n",
    "        train_accu.append(accu)\n",
    "\n",
    "\n",
    "        ######################    \n",
    "        # validate the model #\n",
    "        ######################\n",
    "        val_loss = 0\n",
    "        accu = 0\n",
    "\n",
    "        with torch.no_grad():\n",
    "                model.eval()   \n",
    "\n",
    "                for data, target in valid_dl:\n",
    "\n",
    "                        data,target=data.cuda(),target.cuda()\n",
    "                        out= model(data)\n",
    "                        _, y_pred_tag = torch.max(out, dim = 1)\n",
    "                        loss = criterion(out, target)\n",
    "\n",
    "                        val_loss += loss.item()*data.size(0)\n",
    "                        correct=torch.sum(y_pred_tag == target).item()\n",
    "                        accu += correct      \n",
    "\n",
    "                val_loss=val_loss/valid_size\n",
    "                accu=accu/valid_size\n",
    "\n",
    "                val_losses.append(val_loss)\n",
    "                val_accu.append(accu)\n",
    "\n",
    "                "
   ]
  },
  {
   "attachments": {},
   "cell_type": "markdown",
   "metadata": {},
   "source": [
    "將每個epoch的 Accuracy 和 Loss平均值畫出"
   ]
  },
  {
   "cell_type": "code",
   "execution_count": 21,
   "metadata": {},
   "outputs": [
    {
     "data": {
      "image/png": "[encoded data removed]",
      "text/plain": [
       "<Figure size 640x480 with 1 Axes>"
      ]
     },
     "metadata": {},
     "output_type": "display_data"
    }
   ],
   "source": [
    "plt.plot(train_accu,'-o')\n",
    "plt.plot(val_accu,'-o')\n",
    "\n",
    "plt.xlabel('epoch')\n",
    "plt.ylabel('accuracy')\n",
    "plt.legend(['Train','Valid'])\n",
    "plt.title('Train vs Valid Accuracy')\n",
    "\n",
    "plt.show()"
   ]
  },
  {
   "cell_type": "code",
   "execution_count": 22,
   "metadata": {},
   "outputs": [
    {
     "data": {
      "image/png": "[encoded data removed]",
      "text/plain": [
       "<Figure size 640x480 with 1 Axes>"
      ]
     },
     "metadata": {},
     "output_type": "display_data"
    }
   ],
   "source": [
    "plt.plot(train_losses,'--')\n",
    "plt.plot(val_losses,'--')\n",
    "plt.xlabel('epoch')\n",
    "plt.ylabel('Loss')\n",
    "plt.legend(['Train','Valid'])\n",
    "plt.title('Train vs Valid Loss')\n",
    "\n",
    "plt.show()"
   ]
  },
  {
   "attachments": {},
   "cell_type": "markdown",
   "metadata": {},
   "source": [
    "將test data丟進模型預測"
   ]
  },
  {
   "cell_type": "code",
   "execution_count": 23,
   "metadata": {},
   "outputs": [],
   "source": [
    "model.eval()\n",
    "\n",
    "output=[]\n",
    "with torch.no_grad():\n",
    "    for data in test_dl:\n",
    "        data=data.cuda()\n",
    "        out = model(data)\n",
    "        _, y_pred_tag = torch.max(out, dim = 1)\n",
    "        output.extend(y_pred_tag.cpu().numpy().tolist())\n"
   ]
  },
  {
   "attachments": {},
   "cell_type": "markdown",
   "metadata": {},
   "source": [
    "將預測結果寫成csv檔，並存起來"
   ]
  },
  {
   "cell_type": "code",
   "execution_count": 24,
   "metadata": {},
   "outputs": [],
   "source": [
    "sample_submission=pd.read_csv(r\"C:/Users/MJ/Desktop/Music_Scale_Recognition/sample_truth.csv\")\n",
    "sample_submission['category']=output\n",
    "sample_submission.to_csv(r\"C:/Users/MJ/Desktop/Music_Scale_Recognition/sample_truth.csv\",index=False)"
   ]
  }
 ],
 "metadata": {
  "kernelspec": {
   "display_name": "MJ",
   "language": "python",
   "name": "python3"
  },
  "language_info": {
   "codemirror_mode": {
    "name": "ipython",
    "version": 3
   },
   "file_extension": ".py",
   "mimetype": "text/x-python",
   "name": "python",
   "nbconvert_exporter": "python",
   "pygments_lexer": "ipython3",
   "version": "3.10.6"
  },
  "orig_nbformat": 4
 },
 "nbformat": 4,
 "nbformat_minor": 2
}
